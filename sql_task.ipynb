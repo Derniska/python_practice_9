{
 "cells": [
  {
   "cell_type": "code",
   "execution_count": 44,
   "id": "177c02a2-a67f-43ee-a207-40f0314060d4",
   "metadata": {
    "tags": []
   },
   "outputs": [],
   "source": [
    "import psycopg2\n",
    "from psycopg2.extras import DictCursor\n",
    "import os\n",
    "import pandas as pd\n",
    "from matplotlib import pyplot as plt\n",
    "import seaborn as sns"
   ]
  },
  {
   "cell_type": "code",
   "execution_count": 45,
   "id": "89dd5109-7ae5-49f4-9f61-ae36c7d050a1",
   "metadata": {
    "tags": []
   },
   "outputs": [],
   "source": [
    "sql_host = '10.129.0.25'"
   ]
  },
  {
   "cell_type": "code",
   "execution_count": 46,
   "id": "c621f1ac-521d-4f9a-9798-8667f16a882c",
   "metadata": {
    "tags": []
   },
   "outputs": [
    {
     "name": "stdout",
     "output_type": "stream",
     "text": [
      "POSTGRESQL_USER=reader\n",
      "POSTGRESQL_PASSWORD=Miba2021\n"
     ]
    }
   ],
   "source": [
    "!env | grep POST"
   ]
  },
  {
   "cell_type": "code",
   "execution_count": 47,
   "id": "7bae5789-2ff2-4c24-b3ac-5ca0d4dc4563",
   "metadata": {
    "tags": []
   },
   "outputs": [],
   "source": [
    "def get_query(query: int):\n",
    "    with psycopg2.connect(\n",
    "        dbname = 'demo',\n",
    "        user = os.environ['POSTGRESQL_USER'],\n",
    "        password = os.environ['POSTGRESQL_PASSWORD'],\n",
    "        host = sql_host\n",
    "    )as c:\n",
    "        with c.cursor() as cur:\n",
    "            cur.execute(query)\n",
    "            res = cur.fetchall()\n",
    "            return res"
   ]
  },
  {
   "cell_type": "code",
   "execution_count": 126,
   "id": "fce48f9d-d759-4dfe-9a1d-0c409a00c9ad",
   "metadata": {
    "tags": []
   },
   "outputs": [
    {
     "name": "stdout",
     "output_type": "stream",
     "text": [
      "The name of the passenger is ('ALEKSEY GERASIMOV',)\n"
     ]
    }
   ],
   "source": [
    "# The name of the passenger with the ticket number '0005432312164'\n",
    "res = get_query(\"SELECT passenger_name FROM tickets WHERE ticket_no = '0005432312164'\")\n",
    "print(f'The name of the passenger is {res[0]}')"
   ]
  },
  {
   "cell_type": "code",
   "execution_count": 127,
   "id": "6493b1fa-7ea7-4813-846b-03b59fdeaf21",
   "metadata": {
    "tags": []
   },
   "outputs": [
    {
     "data": {
      "text/plain": [
       "[('0423 646487',)]"
      ]
     },
     "execution_count": 127,
     "metadata": {},
     "output_type": "execute_result"
    }
   ],
   "source": [
    "res = get_query(\"SELECT passenger_id FROM tickets WHERE ticket_no = '0005432312164'\")\n",
    "res"
   ]
  },
  {
   "cell_type": "code",
   "execution_count": 138,
   "id": "e79a88f9-4934-43ab-8048-0f8d4d8d6f58",
   "metadata": {
    "tags": []
   },
   "outputs": [],
   "source": [
    "# Let's find all the available information about this passenger\n",
    "query = \"SELECT book_date, fare_conditions, t.ticket_no, departure_airport, arrival_airport, \\\n",
    "                actual_departure, actual_arrival, a1.city AS arrival_city,\\\n",
    "                a2.city as departure_city, passenger_id, f.flight_id\\\n",
    "         FROM bookings b \\\n",
    "         JOIN tickets t ON t.book_ref = b.book_ref \\\n",
    "         JOIN ticket_flights tf ON t.ticket_no = tf.ticket_no \\\n",
    "         JOIN flights f ON f.flight_id = tf.flight_id \\\n",
    "         JOIN airports a1 ON a1.airport_code  = f.arrival_airport \\\n",
    "         JOIN airports a2 ON a2.airport_code = f.departure_airport \\\n",
    "         WHERE t.passenger_id = '0423 646487'\"\n",
    "data = (get_query(query))"
   ]
  },
  {
   "cell_type": "code",
   "execution_count": 139,
   "id": "de74101c-0c5c-4975-8e34-9ce07863bffc",
   "metadata": {
    "tags": []
   },
   "outputs": [],
   "source": [
    "df = pd.DataFrame(data, columns = ['booking_date', 'fare_conditions', 'ticket_no', 'departure_airport', \n",
    "                                   'arrival_airport','departure_dt', 'arrival_dt','arrival_city',\n",
    "                                   'departure_city', 'passenger_id','flight_id'])"
   ]
  },
  {
   "cell_type": "code",
   "execution_count": 140,
   "id": "9cd0c0ad-5f63-40b4-9e58-ec282cf7cf10",
   "metadata": {
    "tags": []
   },
   "outputs": [
    {
     "data": {
      "text/html": [
       "<div>\n",
       "<style scoped>\n",
       "    .dataframe tbody tr th:only-of-type {\n",
       "        vertical-align: middle;\n",
       "    }\n",
       "\n",
       "    .dataframe tbody tr th {\n",
       "        vertical-align: top;\n",
       "    }\n",
       "\n",
       "    .dataframe thead th {\n",
       "        text-align: right;\n",
       "    }\n",
       "</style>\n",
       "<table border=\"1\" class=\"dataframe\">\n",
       "  <thead>\n",
       "    <tr style=\"text-align: right;\">\n",
       "      <th></th>\n",
       "      <th>booking_date</th>\n",
       "      <th>fare_conditions</th>\n",
       "      <th>ticket_no</th>\n",
       "      <th>departure_airport</th>\n",
       "      <th>arrival_airport</th>\n",
       "      <th>departure_dt</th>\n",
       "      <th>arrival_dt</th>\n",
       "      <th>arrival_city</th>\n",
       "      <th>departure_city</th>\n",
       "      <th>passenger_id</th>\n",
       "      <th>flight_id</th>\n",
       "    </tr>\n",
       "  </thead>\n",
       "  <tbody>\n",
       "    <tr>\n",
       "      <th>0</th>\n",
       "      <td>2016-07-28 07:24:00+00:00</td>\n",
       "      <td>Economy</td>\n",
       "      <td>0005432312164</td>\n",
       "      <td>DME</td>\n",
       "      <td>EGO</td>\n",
       "      <td>2016-08-15 16:55:00+00:00</td>\n",
       "      <td>2016-08-15 17:40:00+00:00</td>\n",
       "      <td>Belgorod</td>\n",
       "      <td>Moscow</td>\n",
       "      <td>0423 646487</td>\n",
       "      <td>19976</td>\n",
       "    </tr>\n",
       "    <tr>\n",
       "      <th>1</th>\n",
       "      <td>2016-07-28 07:24:00+00:00</td>\n",
       "      <td>Economy</td>\n",
       "      <td>0005432312164</td>\n",
       "      <td>EGO</td>\n",
       "      <td>DME</td>\n",
       "      <td>2016-08-24 12:31:00+00:00</td>\n",
       "      <td>2016-08-24 13:17:00+00:00</td>\n",
       "      <td>Moscow</td>\n",
       "      <td>Belgorod</td>\n",
       "      <td>0423 646487</td>\n",
       "      <td>202076</td>\n",
       "    </tr>\n",
       "    <tr>\n",
       "      <th>2</th>\n",
       "      <td>2016-07-28 07:24:00+00:00</td>\n",
       "      <td>Economy</td>\n",
       "      <td>0005432312164</td>\n",
       "      <td>EGO</td>\n",
       "      <td>AAQ</td>\n",
       "      <td>2016-08-16 10:03:00+00:00</td>\n",
       "      <td>2016-08-16 10:54:00+00:00</td>\n",
       "      <td>Anapa</td>\n",
       "      <td>Belgorod</td>\n",
       "      <td>0423 646487</td>\n",
       "      <td>202563</td>\n",
       "    </tr>\n",
       "    <tr>\n",
       "      <th>3</th>\n",
       "      <td>2016-07-28 07:24:00+00:00</td>\n",
       "      <td>Economy</td>\n",
       "      <td>0005432312164</td>\n",
       "      <td>AAQ</td>\n",
       "      <td>EGO</td>\n",
       "      <td>2016-08-24 09:26:00+00:00</td>\n",
       "      <td>2016-08-24 10:16:00+00:00</td>\n",
       "      <td>Belgorod</td>\n",
       "      <td>Anapa</td>\n",
       "      <td>0423 646487</td>\n",
       "      <td>136916</td>\n",
       "    </tr>\n",
       "  </tbody>\n",
       "</table>\n",
       "</div>"
      ],
      "text/plain": [
       "               booking_date fare_conditions      ticket_no departure_airport  \\\n",
       "0 2016-07-28 07:24:00+00:00         Economy  0005432312164               DME   \n",
       "1 2016-07-28 07:24:00+00:00         Economy  0005432312164               EGO   \n",
       "2 2016-07-28 07:24:00+00:00         Economy  0005432312164               EGO   \n",
       "3 2016-07-28 07:24:00+00:00         Economy  0005432312164               AAQ   \n",
       "\n",
       "  arrival_airport              departure_dt                arrival_dt  \\\n",
       "0             EGO 2016-08-15 16:55:00+00:00 2016-08-15 17:40:00+00:00   \n",
       "1             DME 2016-08-24 12:31:00+00:00 2016-08-24 13:17:00+00:00   \n",
       "2             AAQ 2016-08-16 10:03:00+00:00 2016-08-16 10:54:00+00:00   \n",
       "3             EGO 2016-08-24 09:26:00+00:00 2016-08-24 10:16:00+00:00   \n",
       "\n",
       "  arrival_city departure_city passenger_id  flight_id  \n",
       "0     Belgorod         Moscow  0423 646487      19976  \n",
       "1       Moscow       Belgorod  0423 646487     202076  \n",
       "2        Anapa       Belgorod  0423 646487     202563  \n",
       "3     Belgorod          Anapa  0423 646487     136916  "
      ]
     },
     "execution_count": 140,
     "metadata": {},
     "output_type": "execute_result"
    }
   ],
   "source": [
    "df"
   ]
  },
  {
   "cell_type": "code",
   "execution_count": 142,
   "id": "5c78c917-4442-413d-a510-5a8a81dbd33b",
   "metadata": {
    "tags": []
   },
   "outputs": [
    {
     "name": "stdout",
     "output_type": "stream",
     "text": [
      "A.Gerasimov made 4 flights\n"
     ]
    }
   ],
   "source": [
    "print(f\"A.Gerasimov made {df['flight_id'].nunique()} flights\")"
   ]
  },
  {
   "cell_type": "code",
   "execution_count": 188,
   "id": "68529c1f-6c5e-4447-be91-f8ca62ab7284",
   "metadata": {
    "tags": []
   },
   "outputs": [],
   "source": [
    "passengers = get_query(\"SELECT passenger_id FROM tickets LIMIT 10000\")\n"
   ]
  },
  {
   "cell_type": "code",
   "execution_count": null,
   "id": "70d12754-b614-4281-ab73-1c3232728bf9",
   "metadata": {
    "tags": []
   },
   "outputs": [
    {
     "name": "stderr",
     "output_type": "stream",
     "text": [
      " 19%|█▉        | 1944/10000 [10:59<46:19,  2.90it/s] "
     ]
    }
   ],
   "source": [
    "from tqdm import tqdm\n",
    "def get_passenger(id):\n",
    "    query = f\"SELECT book_date, fare_conditions, t.ticket_no, departure_airport, arrival_airport, \\\n",
    "                actual_departure, actual_arrival, a1.city AS arrival_city,\\\n",
    "                a2.city as departure_city, passenger_id, f.flight_id\\\n",
    "         FROM bookings b \\\n",
    "         JOIN tickets t ON t.book_ref = b.book_ref \\\n",
    "         JOIN ticket_flights tf ON t.ticket_no = tf.ticket_no \\\n",
    "         JOIN flights f ON f.flight_id = tf.flight_id \\\n",
    "         JOIN airports a1 ON a1.airport_code  = f.arrival_airport \\\n",
    "         JOIN airports a2 ON a2.airport_code = f.departure_airport \\\n",
    "         WHERE t.passenger_id = '{id}'\"\n",
    "    return get_query(query)\n",
    "all_pgrs = []\n",
    "for i in tqdm(passengers):\n",
    "    data = get_passenger(i[0])\n",
    "    all_pgrs.append(data)"
   ]
  },
  {
   "cell_type": "code",
   "execution_count": 183,
   "id": "731741de-304b-47ee-b337-0e4fb90eff5a",
   "metadata": {
    "tags": []
   },
   "outputs": [],
   "source": [
    "flat_data = [item for sublist in all_pgrs for item in sublist]"
   ]
  },
  {
   "cell_type": "code",
   "execution_count": 185,
   "id": "5dbf40d7-1803-486e-a76f-a35b17340acd",
   "metadata": {
    "tags": []
   },
   "outputs": [
    {
     "data": {
      "text/html": [
       "<div>\n",
       "<style scoped>\n",
       "    .dataframe tbody tr th:only-of-type {\n",
       "        vertical-align: middle;\n",
       "    }\n",
       "\n",
       "    .dataframe tbody tr th {\n",
       "        vertical-align: top;\n",
       "    }\n",
       "\n",
       "    .dataframe thead th {\n",
       "        text-align: right;\n",
       "    }\n",
       "</style>\n",
       "<table border=\"1\" class=\"dataframe\">\n",
       "  <thead>\n",
       "    <tr style=\"text-align: right;\">\n",
       "      <th></th>\n",
       "      <th>booking_date</th>\n",
       "      <th>fare_conditions</th>\n",
       "      <th>ticket_no</th>\n",
       "      <th>departure_airport</th>\n",
       "      <th>arrival_airport</th>\n",
       "      <th>departure_dt</th>\n",
       "      <th>arrival_dt</th>\n",
       "      <th>arrival_city</th>\n",
       "      <th>departure_city</th>\n",
       "      <th>passenger_id</th>\n",
       "      <th>flight_id</th>\n",
       "    </tr>\n",
       "  </thead>\n",
       "  <tbody>\n",
       "    <tr>\n",
       "      <th>0</th>\n",
       "      <td>2017-08-11 01:49:00+00:00</td>\n",
       "      <td>Economy</td>\n",
       "      <td>0005432059556</td>\n",
       "      <td>PEE</td>\n",
       "      <td>VKO</td>\n",
       "      <td>NaT</td>\n",
       "      <td>NaT</td>\n",
       "      <td>Moscow</td>\n",
       "      <td>Perm</td>\n",
       "      <td>9306 889942</td>\n",
       "      <td>94551</td>\n",
       "    </tr>\n",
       "    <tr>\n",
       "      <th>1</th>\n",
       "      <td>2017-08-11 01:49:00+00:00</td>\n",
       "      <td>Economy</td>\n",
       "      <td>0005432059556</td>\n",
       "      <td>MRV</td>\n",
       "      <td>PEE</td>\n",
       "      <td>NaT</td>\n",
       "      <td>NaT</td>\n",
       "      <td>Perm</td>\n",
       "      <td>Mineralnye Vody</td>\n",
       "      <td>9306 889942</td>\n",
       "      <td>131122</td>\n",
       "    </tr>\n",
       "    <tr>\n",
       "      <th>2</th>\n",
       "      <td>2017-08-11 11:35:00+00:00</td>\n",
       "      <td>Economy</td>\n",
       "      <td>0005432059557</td>\n",
       "      <td>PEE</td>\n",
       "      <td>VKO</td>\n",
       "      <td>NaT</td>\n",
       "      <td>NaT</td>\n",
       "      <td>Moscow</td>\n",
       "      <td>Perm</td>\n",
       "      <td>2474 172911</td>\n",
       "      <td>94394</td>\n",
       "    </tr>\n",
       "    <tr>\n",
       "      <th>3</th>\n",
       "      <td>2017-08-11 11:35:00+00:00</td>\n",
       "      <td>Economy</td>\n",
       "      <td>0005432059557</td>\n",
       "      <td>MRV</td>\n",
       "      <td>PEE</td>\n",
       "      <td>NaT</td>\n",
       "      <td>NaT</td>\n",
       "      <td>Perm</td>\n",
       "      <td>Mineralnye Vody</td>\n",
       "      <td>2474 172911</td>\n",
       "      <td>131295</td>\n",
       "    </tr>\n",
       "    <tr>\n",
       "      <th>4</th>\n",
       "      <td>2017-08-14 14:20:00+00:00</td>\n",
       "      <td>Economy</td>\n",
       "      <td>0005432059558</td>\n",
       "      <td>PEE</td>\n",
       "      <td>VKO</td>\n",
       "      <td>NaT</td>\n",
       "      <td>NaT</td>\n",
       "      <td>Moscow</td>\n",
       "      <td>Perm</td>\n",
       "      <td>2445 944858</td>\n",
       "      <td>94394</td>\n",
       "    </tr>\n",
       "    <tr>\n",
       "      <th>5</th>\n",
       "      <td>2017-08-14 14:20:00+00:00</td>\n",
       "      <td>Economy</td>\n",
       "      <td>0005432059558</td>\n",
       "      <td>MRV</td>\n",
       "      <td>PEE</td>\n",
       "      <td>NaT</td>\n",
       "      <td>NaT</td>\n",
       "      <td>Perm</td>\n",
       "      <td>Mineralnye Vody</td>\n",
       "      <td>2445 944858</td>\n",
       "      <td>131295</td>\n",
       "    </tr>\n",
       "    <tr>\n",
       "      <th>6</th>\n",
       "      <td>2017-08-14 14:20:00+00:00</td>\n",
       "      <td>Comfort</td>\n",
       "      <td>0005432059559</td>\n",
       "      <td>PEE</td>\n",
       "      <td>VKO</td>\n",
       "      <td>NaT</td>\n",
       "      <td>NaT</td>\n",
       "      <td>Moscow</td>\n",
       "      <td>Perm</td>\n",
       "      <td>6144 707815</td>\n",
       "      <td>94394</td>\n",
       "    </tr>\n",
       "    <tr>\n",
       "      <th>7</th>\n",
       "      <td>2017-08-14 14:20:00+00:00</td>\n",
       "      <td>Business</td>\n",
       "      <td>0005432059559</td>\n",
       "      <td>MRV</td>\n",
       "      <td>PEE</td>\n",
       "      <td>NaT</td>\n",
       "      <td>NaT</td>\n",
       "      <td>Perm</td>\n",
       "      <td>Mineralnye Vody</td>\n",
       "      <td>6144 707815</td>\n",
       "      <td>131295</td>\n",
       "    </tr>\n",
       "    <tr>\n",
       "      <th>8</th>\n",
       "      <td>2017-08-11 09:48:00+00:00</td>\n",
       "      <td>Economy</td>\n",
       "      <td>0005432059560</td>\n",
       "      <td>PEE</td>\n",
       "      <td>VKO</td>\n",
       "      <td>NaT</td>\n",
       "      <td>NaT</td>\n",
       "      <td>Moscow</td>\n",
       "      <td>Perm</td>\n",
       "      <td>3785 989792</td>\n",
       "      <td>94680</td>\n",
       "    </tr>\n",
       "    <tr>\n",
       "      <th>9</th>\n",
       "      <td>2017-08-11 09:48:00+00:00</td>\n",
       "      <td>Economy</td>\n",
       "      <td>0005432059560</td>\n",
       "      <td>MRV</td>\n",
       "      <td>PEE</td>\n",
       "      <td>NaT</td>\n",
       "      <td>NaT</td>\n",
       "      <td>Perm</td>\n",
       "      <td>Mineralnye Vody</td>\n",
       "      <td>3785 989792</td>\n",
       "      <td>131206</td>\n",
       "    </tr>\n",
       "    <tr>\n",
       "      <th>10</th>\n",
       "      <td>2017-08-15 13:59:00+00:00</td>\n",
       "      <td>Comfort</td>\n",
       "      <td>0005432059561</td>\n",
       "      <td>PEE</td>\n",
       "      <td>VKO</td>\n",
       "      <td>NaT</td>\n",
       "      <td>NaT</td>\n",
       "      <td>Moscow</td>\n",
       "      <td>Perm</td>\n",
       "      <td>0650 949698</td>\n",
       "      <td>94358</td>\n",
       "    </tr>\n",
       "    <tr>\n",
       "      <th>11</th>\n",
       "      <td>2017-08-15 13:59:00+00:00</td>\n",
       "      <td>Economy</td>\n",
       "      <td>0005432059561</td>\n",
       "      <td>MRV</td>\n",
       "      <td>PEE</td>\n",
       "      <td>NaT</td>\n",
       "      <td>NaT</td>\n",
       "      <td>Perm</td>\n",
       "      <td>Mineralnye Vody</td>\n",
       "      <td>0650 949698</td>\n",
       "      <td>130940</td>\n",
       "    </tr>\n",
       "    <tr>\n",
       "      <th>12</th>\n",
       "      <td>2017-08-15 13:59:00+00:00</td>\n",
       "      <td>Comfort</td>\n",
       "      <td>0005432059562</td>\n",
       "      <td>PEE</td>\n",
       "      <td>VKO</td>\n",
       "      <td>NaT</td>\n",
       "      <td>NaT</td>\n",
       "      <td>Moscow</td>\n",
       "      <td>Perm</td>\n",
       "      <td>6480 869643</td>\n",
       "      <td>94358</td>\n",
       "    </tr>\n",
       "    <tr>\n",
       "      <th>13</th>\n",
       "      <td>2017-08-15 13:59:00+00:00</td>\n",
       "      <td>Economy</td>\n",
       "      <td>0005432059562</td>\n",
       "      <td>MRV</td>\n",
       "      <td>PEE</td>\n",
       "      <td>NaT</td>\n",
       "      <td>NaT</td>\n",
       "      <td>Perm</td>\n",
       "      <td>Mineralnye Vody</td>\n",
       "      <td>6480 869643</td>\n",
       "      <td>130940</td>\n",
       "    </tr>\n",
       "    <tr>\n",
       "      <th>14</th>\n",
       "      <td>2017-08-15 13:59:00+00:00</td>\n",
       "      <td>Economy</td>\n",
       "      <td>0005432059563</td>\n",
       "      <td>PEE</td>\n",
       "      <td>VKO</td>\n",
       "      <td>NaT</td>\n",
       "      <td>NaT</td>\n",
       "      <td>Moscow</td>\n",
       "      <td>Perm</td>\n",
       "      <td>2494 306239</td>\n",
       "      <td>94358</td>\n",
       "    </tr>\n",
       "    <tr>\n",
       "      <th>15</th>\n",
       "      <td>2017-08-15 13:59:00+00:00</td>\n",
       "      <td>Economy</td>\n",
       "      <td>0005432059563</td>\n",
       "      <td>MRV</td>\n",
       "      <td>PEE</td>\n",
       "      <td>NaT</td>\n",
       "      <td>NaT</td>\n",
       "      <td>Perm</td>\n",
       "      <td>Mineralnye Vody</td>\n",
       "      <td>2494 306239</td>\n",
       "      <td>130940</td>\n",
       "    </tr>\n",
       "    <tr>\n",
       "      <th>16</th>\n",
       "      <td>2016-07-31 03:32:00+00:00</td>\n",
       "      <td>Economy</td>\n",
       "      <td>0005432060302</td>\n",
       "      <td>SVO</td>\n",
       "      <td>AAQ</td>\n",
       "      <td>2016-08-15 15:06:00+00:00</td>\n",
       "      <td>2016-08-15 16:46:00+00:00</td>\n",
       "      <td>Anapa</td>\n",
       "      <td>Moscow</td>\n",
       "      <td>1272 133650</td>\n",
       "      <td>41489</td>\n",
       "    </tr>\n",
       "    <tr>\n",
       "      <th>17</th>\n",
       "      <td>2016-07-31 12:37:00+00:00</td>\n",
       "      <td>Economy</td>\n",
       "      <td>0005432060303</td>\n",
       "      <td>SVO</td>\n",
       "      <td>AAQ</td>\n",
       "      <td>2016-08-15 15:06:00+00:00</td>\n",
       "      <td>2016-08-15 16:46:00+00:00</td>\n",
       "      <td>Anapa</td>\n",
       "      <td>Moscow</td>\n",
       "      <td>4061 603861</td>\n",
       "      <td>41489</td>\n",
       "    </tr>\n",
       "  </tbody>\n",
       "</table>\n",
       "</div>"
      ],
      "text/plain": [
       "                booking_date fare_conditions      ticket_no departure_airport  \\\n",
       "0  2017-08-11 01:49:00+00:00         Economy  0005432059556               PEE   \n",
       "1  2017-08-11 01:49:00+00:00         Economy  0005432059556               MRV   \n",
       "2  2017-08-11 11:35:00+00:00         Economy  0005432059557               PEE   \n",
       "3  2017-08-11 11:35:00+00:00         Economy  0005432059557               MRV   \n",
       "4  2017-08-14 14:20:00+00:00         Economy  0005432059558               PEE   \n",
       "5  2017-08-14 14:20:00+00:00         Economy  0005432059558               MRV   \n",
       "6  2017-08-14 14:20:00+00:00         Comfort  0005432059559               PEE   \n",
       "7  2017-08-14 14:20:00+00:00        Business  0005432059559               MRV   \n",
       "8  2017-08-11 09:48:00+00:00         Economy  0005432059560               PEE   \n",
       "9  2017-08-11 09:48:00+00:00         Economy  0005432059560               MRV   \n",
       "10 2017-08-15 13:59:00+00:00         Comfort  0005432059561               PEE   \n",
       "11 2017-08-15 13:59:00+00:00         Economy  0005432059561               MRV   \n",
       "12 2017-08-15 13:59:00+00:00         Comfort  0005432059562               PEE   \n",
       "13 2017-08-15 13:59:00+00:00         Economy  0005432059562               MRV   \n",
       "14 2017-08-15 13:59:00+00:00         Economy  0005432059563               PEE   \n",
       "15 2017-08-15 13:59:00+00:00         Economy  0005432059563               MRV   \n",
       "16 2016-07-31 03:32:00+00:00         Economy  0005432060302               SVO   \n",
       "17 2016-07-31 12:37:00+00:00         Economy  0005432060303               SVO   \n",
       "\n",
       "   arrival_airport              departure_dt                arrival_dt  \\\n",
       "0              VKO                       NaT                       NaT   \n",
       "1              PEE                       NaT                       NaT   \n",
       "2              VKO                       NaT                       NaT   \n",
       "3              PEE                       NaT                       NaT   \n",
       "4              VKO                       NaT                       NaT   \n",
       "5              PEE                       NaT                       NaT   \n",
       "6              VKO                       NaT                       NaT   \n",
       "7              PEE                       NaT                       NaT   \n",
       "8              VKO                       NaT                       NaT   \n",
       "9              PEE                       NaT                       NaT   \n",
       "10             VKO                       NaT                       NaT   \n",
       "11             PEE                       NaT                       NaT   \n",
       "12             VKO                       NaT                       NaT   \n",
       "13             PEE                       NaT                       NaT   \n",
       "14             VKO                       NaT                       NaT   \n",
       "15             PEE                       NaT                       NaT   \n",
       "16             AAQ 2016-08-15 15:06:00+00:00 2016-08-15 16:46:00+00:00   \n",
       "17             AAQ 2016-08-15 15:06:00+00:00 2016-08-15 16:46:00+00:00   \n",
       "\n",
       "   arrival_city   departure_city passenger_id  flight_id  \n",
       "0        Moscow             Perm  9306 889942      94551  \n",
       "1          Perm  Mineralnye Vody  9306 889942     131122  \n",
       "2        Moscow             Perm  2474 172911      94394  \n",
       "3          Perm  Mineralnye Vody  2474 172911     131295  \n",
       "4        Moscow             Perm  2445 944858      94394  \n",
       "5          Perm  Mineralnye Vody  2445 944858     131295  \n",
       "6        Moscow             Perm  6144 707815      94394  \n",
       "7          Perm  Mineralnye Vody  6144 707815     131295  \n",
       "8        Moscow             Perm  3785 989792      94680  \n",
       "9          Perm  Mineralnye Vody  3785 989792     131206  \n",
       "10       Moscow             Perm  0650 949698      94358  \n",
       "11         Perm  Mineralnye Vody  0650 949698     130940  \n",
       "12       Moscow             Perm  6480 869643      94358  \n",
       "13         Perm  Mineralnye Vody  6480 869643     130940  \n",
       "14       Moscow             Perm  2494 306239      94358  \n",
       "15         Perm  Mineralnye Vody  2494 306239     130940  \n",
       "16        Anapa           Moscow  1272 133650      41489  \n",
       "17        Anapa           Moscow  4061 603861      41489  "
      ]
     },
     "execution_count": 185,
     "metadata": {},
     "output_type": "execute_result"
    }
   ],
   "source": [
    "df = pd.DataFrame(flat_data, columns = ['booking_date', 'fare_conditions', 'ticket_no', 'departure_airport', \n",
    "                                   'arrival_airport','departure_dt', 'arrival_dt','arrival_city',\n",
    "                                   'departure_city', 'passenger_id','flight_id'])"
   ]
  },
  {
   "cell_type": "code",
   "execution_count": 53,
   "id": "9f161030-f3a9-4bdf-9982-93f8472a329f",
   "metadata": {
    "tags": []
   },
   "outputs": [],
   "source": [
    "top_10 = df['arrival_city'].value_counts().nlargest(10).reset_index()\n",
    "top_10.columns = ['arrival_city', 'count']"
   ]
  },
  {
   "cell_type": "code",
   "execution_count": 54,
   "id": "e63b129a-4f75-4dcf-b74c-3364a0a092df",
   "metadata": {
    "tags": []
   },
   "outputs": [
    {
     "name": "stdout",
     "output_type": "stream",
     "text": [
      "A. Gerasimov has visited 81 cities\n"
     ]
    }
   ],
   "source": [
    "print(f\"A. Gerasimov has visited {df['arrival_city'].nunique()} cities\")"
   ]
  },
  {
   "cell_type": "code",
   "execution_count": 55,
   "id": "af0cba77-9032-488a-a769-7a175dcacbf4",
   "metadata": {
    "tags": []
   },
   "outputs": [
    {
     "data": {
      "image/png": "[encoded data removed]",
      "text/plain": [
       "<Figure size 800x500 with 1 Axes>"
      ]
     },
     "metadata": {},
     "output_type": "display_data"
    }
   ],
   "source": [
    "plt.figure(figsize = (8,5))\n",
    "plt.barh(top_10['arrival_city'], top_10['count'], color = 'maroon', alpha = .7)\n",
    "plt.title('10 most frequently visited cities')\n",
    "plt.show()"
   ]
  },
  {
   "cell_type": "code",
   "execution_count": 62,
   "id": "1cbc1eb0-cbf3-441b-921d-8faccc6df5f3",
   "metadata": {
    "tags": []
   },
   "outputs": [
    {
     "data": {
      "text/plain": [
       "Timestamp('2017-08-14 20:49:00+0000', tz='UTC')"
      ]
     },
     "execution_count": 62,
     "metadata": {},
     "output_type": "execute_result"
    }
   ],
   "source": [
    "max(df['booking_date'])"
   ]
  },
  {
   "cell_type": "code",
   "execution_count": 57,
   "id": "74d9c2c0-0213-43df-ab66-775fda7810cb",
   "metadata": {
    "tags": []
   },
   "outputs": [
    {
     "data": {
      "text/plain": [
       "Timestamp('2016-07-27 16:26:00+0000', tz='UTC')"
      ]
     },
     "execution_count": 57,
     "metadata": {},
     "output_type": "execute_result"
    }
   ],
   "source": [
    "min(df['booking_date'])"
   ]
  },
  {
   "cell_type": "code",
   "execution_count": 16,
   "id": "6dfd11a8-20f1-49bb-9e47-ed3a207395da",
   "metadata": {
    "tags": []
   },
   "outputs": [
    {
     "data": {
      "image/png": "[encoded data removed]",
      "text/plain": [
       "<Figure size 800x500 with 1 Axes>"
      ]
     },
     "metadata": {},
     "output_type": "display_data"
    }
   ],
   "source": [
    "fig = plt.figure(figsize = (8,5))\n",
    "sns.histplot(df, x = 'fare_conditions')\n",
    "plt.title('Frequency of A. Gerasimov fare conditions')\n",
    "plt.show()"
   ]
  },
  {
   "cell_type": "code",
   "execution_count": 90,
   "id": "7b36b63e-3309-4881-a138-a5742329d4f3",
   "metadata": {},
   "outputs": [
    {
     "data": {
      "text/html": [
       "<div>\n",
       "<style scoped>\n",
       "    .dataframe tbody tr th:only-of-type {\n",
       "        vertical-align: middle;\n",
       "    }\n",
       "\n",
       "    .dataframe tbody tr th {\n",
       "        vertical-align: top;\n",
       "    }\n",
       "\n",
       "    .dataframe thead th {\n",
       "        text-align: right;\n",
       "    }\n",
       "</style>\n",
       "<table border=\"1\" class=\"dataframe\">\n",
       "  <thead>\n",
       "    <tr style=\"text-align: right;\">\n",
       "      <th></th>\n",
       "      <th>booking_date</th>\n",
       "      <th>fare_conditions</th>\n",
       "      <th>ticket_no</th>\n",
       "      <th>departure_airport</th>\n",
       "      <th>arrival_airport</th>\n",
       "      <th>departure_dt</th>\n",
       "      <th>arrival_dt</th>\n",
       "      <th>arrival_city</th>\n",
       "      <th>departure_city</th>\n",
       "      <th>dep_month</th>\n",
       "      <th>month_year</th>\n",
       "    </tr>\n",
       "  </thead>\n",
       "  <tbody>\n",
       "    <tr>\n",
       "      <th>0</th>\n",
       "      <td>2017-04-23 22:36:00+00:00</td>\n",
       "      <td>Economy</td>\n",
       "      <td>0005432061772</td>\n",
       "      <td>SVO</td>\n",
       "      <td>AAQ</td>\n",
       "      <td>2017-05-10 15:09:00+00:00</td>\n",
       "      <td>2017-05-10 16:48:00+00:00</td>\n",
       "      <td>Anapa</td>\n",
       "      <td>Moscow</td>\n",
       "      <td>5.0</td>\n",
       "      <td>05-2017</td>\n",
       "    </tr>\n",
       "    <tr>\n",
       "      <th>1</th>\n",
       "      <td>2016-11-19 12:43:00+00:00</td>\n",
       "      <td>Economy</td>\n",
       "      <td>0005432066068</td>\n",
       "      <td>SVO</td>\n",
       "      <td>AER</td>\n",
       "      <td>2016-12-04 14:08:00+00:00</td>\n",
       "      <td>2016-12-04 15:52:00+00:00</td>\n",
       "      <td>Sochi</td>\n",
       "      <td>Moscow</td>\n",
       "      <td>12.0</td>\n",
       "      <td>12-2016</td>\n",
       "    </tr>\n",
       "    <tr>\n",
       "      <th>2</th>\n",
       "      <td>2016-10-31 07:29:00+00:00</td>\n",
       "      <td>Economy</td>\n",
       "      <td>0005432070785</td>\n",
       "      <td>SVO</td>\n",
       "      <td>BZK</td>\n",
       "      <td>2016-11-17 07:45:00+00:00</td>\n",
       "      <td>2016-11-17 08:15:00+00:00</td>\n",
       "      <td>Bryansk</td>\n",
       "      <td>Moscow</td>\n",
       "      <td>11.0</td>\n",
       "      <td>11-2016</td>\n",
       "    </tr>\n",
       "    <tr>\n",
       "      <th>3</th>\n",
       "      <td>2017-04-13 23:16:00+00:00</td>\n",
       "      <td>Economy</td>\n",
       "      <td>0005432071284</td>\n",
       "      <td>SVO</td>\n",
       "      <td>BZK</td>\n",
       "      <td>2017-04-29 07:42:00+00:00</td>\n",
       "      <td>2017-04-29 08:12:00+00:00</td>\n",
       "      <td>Bryansk</td>\n",
       "      <td>Moscow</td>\n",
       "      <td>4.0</td>\n",
       "      <td>04-2017</td>\n",
       "    </tr>\n",
       "    <tr>\n",
       "      <th>4</th>\n",
       "      <td>2016-08-17 11:34:00+00:00</td>\n",
       "      <td>Economy</td>\n",
       "      <td>0005432072198</td>\n",
       "      <td>SVO</td>\n",
       "      <td>CSY</td>\n",
       "      <td>2016-08-30 06:47:00+00:00</td>\n",
       "      <td>2016-08-30 07:38:00+00:00</td>\n",
       "      <td>Cheboksary</td>\n",
       "      <td>Moscow</td>\n",
       "      <td>8.0</td>\n",
       "      <td>08-2016</td>\n",
       "    </tr>\n",
       "  </tbody>\n",
       "</table>\n",
       "</div>"
      ],
      "text/plain": [
       "               booking_date fare_conditions      ticket_no departure_airport  \\\n",
       "0 2017-04-23 22:36:00+00:00         Economy  0005432061772               SVO   \n",
       "1 2016-11-19 12:43:00+00:00         Economy  0005432066068               SVO   \n",
       "2 2016-10-31 07:29:00+00:00         Economy  0005432070785               SVO   \n",
       "3 2017-04-13 23:16:00+00:00         Economy  0005432071284               SVO   \n",
       "4 2016-08-17 11:34:00+00:00         Economy  0005432072198               SVO   \n",
       "\n",
       "  arrival_airport              departure_dt                arrival_dt  \\\n",
       "0             AAQ 2017-05-10 15:09:00+00:00 2017-05-10 16:48:00+00:00   \n",
       "1             AER 2016-12-04 14:08:00+00:00 2016-12-04 15:52:00+00:00   \n",
       "2             BZK 2016-11-17 07:45:00+00:00 2016-11-17 08:15:00+00:00   \n",
       "3             BZK 2017-04-29 07:42:00+00:00 2017-04-29 08:12:00+00:00   \n",
       "4             CSY 2016-08-30 06:47:00+00:00 2016-08-30 07:38:00+00:00   \n",
       "\n",
       "  arrival_city departure_city  dep_month month_year  \n",
       "0        Anapa         Moscow        5.0    05-2017  \n",
       "1        Sochi         Moscow       12.0    12-2016  \n",
       "2      Bryansk         Moscow       11.0    11-2016  \n",
       "3      Bryansk         Moscow        4.0    04-2017  \n",
       "4   Cheboksary         Moscow        8.0    08-2016  "
      ]
     },
     "execution_count": 90,
     "metadata": {},
     "output_type": "execute_result"
    }
   ],
   "source": [
    "df['dep_month'] = df['departure_dt'].dt.month\n",
    "df['month_year'] = df['departure_dt'].dt.strftime('%m-%Y')\n",
    "df.head()"
   ]
  },
  {
   "cell_type": "code",
   "execution_count": 124,
   "id": "4acb8de9-1bb0-488a-aa4e-b43979f85dd4",
   "metadata": {
    "tags": []
   },
   "outputs": [],
   "source": [
    "from datetime import datetime\n",
    "stata = df.groupby('month_year')['ticket_no'].count().reset_index()\n",
    "stata.columns = ['month_year', 'count']\n",
    "# stata.sort_values(by = 'month_year', ascending = False)\n",
    "stata['month_year'] = stata['month_year'].astype('str')\n",
    "stata['date'] = stata['month_year'].apply(lambda x: datetime.strptime(x,'%m-%Y'))\n",
    "stata.sort_values(by = 'date', inplace = True)"
   ]
  },
  {
   "cell_type": "code",
   "execution_count": 125,
   "id": "4f12be7d-7d92-426f-8412-16ddc168ed34",
   "metadata": {
    "tags": []
   },
   "outputs": [
    {
     "data": {
      "image/png": "[encoded data removed]",
      "text/plain": [
       "<Figure size 900x500 with 1 Axes>"
      ]
     },
     "metadata": {},
     "output_type": "display_data"
    }
   ],
   "source": [
    "plt.figure(figsize = (9,5))\n",
    "plt.plot(stata['month_year'], stata['count'])\n",
    "plt.xticks(rotation = 45)\n",
    "plt.xlabel('Month')\n",
    "plt.ylabel('Number of flights')\n",
    "plt.title('Number of flights of A. Gerasimov by month')\n",
    "plt.show()"
   ]
  },
  {
   "cell_type": "code",
   "execution_count": null,
   "id": "8335a262-d403-4262-96d2-c3d9201e79fe",
   "metadata": {},
   "outputs": [],
   "source": []
  }
 ],
 "metadata": {
  "kernelspec": {
   "display_name": "Python 3 (ipykernel)",
   "language": "python",
   "name": "python3"
  },
  "language_info": {
   "codemirror_mode": {
    "name": "ipython",
    "version": 3
   },
   "file_extension": ".py",
   "mimetype": "text/x-python",
   "name": "python",
   "nbconvert_exporter": "python",
   "pygments_lexer": "ipython3",
   "version": "3.10.8"
  }
 },
 "nbformat": 4,
 "nbformat_minor": 5
}
