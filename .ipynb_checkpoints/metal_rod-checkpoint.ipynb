{
 "cells": [
  {
   "cell_type": "code",
   "execution_count": 9,
   "id": "eec7bfe3-d537-43fb-9758-553384df7c80",
   "metadata": {},
   "outputs": [],
   "source": [
    "length = 8\n",
    "prices = [1,5,8,9,10, 17, 17, 20]"
   ]
  },
  {
   "cell_type": "code",
   "execution_count": 135,
   "id": "316a731e-6370-4e2c-aa1f-2c507a531292",
   "metadata": {},
   "outputs": [],
   "source": [
    "def rod_cut(p,n):\n",
    "    r = [-float('inf')] * (n+1)\n",
    "    r[0] = 0\n",
    "    p_r = [0] + p \n",
    "    return rod_cut_aux(p_r,n,r)    \n",
    "def rod_cut_aux(p,n,r):\n",
    "    if r[n] >= 0:\n",
    "        return r[n]\n",
    "    else:\n",
    "        q = -float('inf')\n",
    "        for i in range(1,n+1):\n",
    "            q = max(q, p[i] + rod_cut_aux(p,n-i,r))\n",
    "    r[n] = q\n",
    "    return q"
   ]
  },
  {
   "cell_type": "code",
   "execution_count": 153,
   "id": "6287e7ed-21a0-4462-8b87-1e73e8daea3a",
   "metadata": {},
   "outputs": [
    {
     "name": "stdout",
     "output_type": "stream",
     "text": [
      "1\n"
     ]
    }
   ],
   "source": [
    "prices = [1,5,8,9,10, 17, 17, 20]\n",
    "print(rod_cut(prices,1))"
   ]
  },
  {
   "cell_type": "code",
   "execution_count": 160,
   "id": "6bb988a5-dc55-48c0-98e8-c9fb00b8e31e",
   "metadata": {
    "tags": []
   },
   "outputs": [
    {
     "name": "stdout",
     "output_type": "stream",
     "text": [
      "The optimal price for the rod length 1 is 1\n",
      "The optimal price for the rod length 2 is 5\n",
      "The optimal price for the rod length 3 is 8\n",
      "The optimal price for the rod length 4 is 10\n",
      "The optimal price for the rod length 5 is 13\n",
      "The optimal price for the rod length 6 is 17\n",
      "The optimal price for the rod length 7 is 18\n",
      "The optimal price for the rod length 8 is 22\n"
     ]
    }
   ],
   "source": [
    "prices = [1,5,8,9,10, 17, 17, 20]\n",
    "for i in range(1,len(prices)+1):\n",
    "    print(f'The optimal price for the rod length {i} is {rod_cut(prices,i)}')"
   ]
  },
  {
   "cell_type": "code",
   "execution_count": 35,
   "id": "285386cf-ad45-4a2c-bdcf-0707acd73e29",
   "metadata": {},
   "outputs": [],
   "source": [
    "def bottom_up(p,n):\n",
    "    r = [-float('inf')] * (n+1)\n",
    "    r[0] = 0\n",
    "    p_r = [0] + p\n",
    "    for j in range(1, n+1):\n",
    "        q = -float('inf')\n",
    "        for i in range(1,j+1):\n",
    "            q = max(q, p_r[i] + r[j-i])\n",
    "        r[j] = q\n",
    "    return r[n]  "
   ]
  },
  {
   "cell_type": "code",
   "execution_count": 38,
   "id": "221ce63b-03da-418e-a0bf-fb15a200bb94",
   "metadata": {
    "tags": []
   },
   "outputs": [
    {
     "name": "stdout",
     "output_type": "stream",
     "text": [
      "The optimal price for the rod length 1 is 1\n",
      "The optimal price for the rod length 2 is 5\n",
      "The optimal price for the rod length 3 is 8\n",
      "The optimal price for the rod length 4 is 10\n",
      "The optimal price for the rod length 5 is 13\n",
      "The optimal price for the rod length 6 is 17\n",
      "The optimal price for the rod length 7 is 18\n",
      "The optimal price for the rod length 8 is 22\n"
     ]
    }
   ],
   "source": [
    "prices = [1,5,8,9,10, 17, 17, 20]\n",
    "for i in range(1,len(prices)+1):\n",
    "    print(f'The optimal price for the rod length {i} is {bottom_up(prices,i)}')"
   ]
  },
  {
   "cell_type": "code",
   "execution_count": 32,
   "id": "ce11bd92-69f4-453f-94b4-7e2313cf3a7a",
   "metadata": {
    "tags": []
   },
   "outputs": [
    {
     "name": "stdout",
     "output_type": "stream",
     "text": [
      "1\n"
     ]
    }
   ],
   "source": [
    "for i in range(1,1+1):\n",
    "    print(i)"
   ]
  },
  {
   "cell_type": "code",
   "execution_count": null,
   "id": "97a89eb6-f959-4eed-857e-2d269e240a9f",
   "metadata": {},
   "outputs": [],
   "source": []
  }
 ],
 "metadata": {
  "kernelspec": {
   "display_name": "Python 3 (ipykernel)",
   "language": "python",
   "name": "python3"
  },
  "language_info": {
   "codemirror_mode": {
    "name": "ipython",
    "version": 3
   },
   "file_extension": ".py",
   "mimetype": "text/x-python",
   "name": "python",
   "nbconvert_exporter": "python",
   "pygments_lexer": "ipython3",
   "version": "3.10.8"
  }
 },
 "nbformat": 4,
 "nbformat_minor": 5
}
