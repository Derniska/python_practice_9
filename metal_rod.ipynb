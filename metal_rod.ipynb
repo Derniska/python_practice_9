{
 "cells": [
  {
   "cell_type": "code",
   "execution_count": 9,
   "id": "eec7bfe3-d537-43fb-9758-553384df7c80",
   "metadata": {},
   "outputs": [],
   "source": [
    "length = 8\n",
    "prices = [1,5,8,9,10, 17, 17, 20]"
   ]
  },
  {
   "cell_type": "code",
   "execution_count": 135,
   "id": "316a731e-6370-4e2c-aa1f-2c507a531292",
   "metadata": {},
   "outputs": [],
   "source": [
    "def rod_cut(p,n):\n",
    "    r = [-float('inf')] * (n+1)\n",
    "    r[0] = 0\n",
    "    p_r = [0] + p \n",
    "    return rod_cut_aux(p_r,n,r)    \n",
    "def rod_cut_aux(p,n,r):\n",
    "    if r[n] >= 0:\n",
    "        return r[n]\n",
    "    else:\n",
    "        q = -float('inf')\n",
    "        for i in range(1,n+1):\n",
    "            q = max(q, p[i] + rod_cut_aux(p,n-i,r))\n",
    "    r[n] = q\n",
    "    return q"
   ]
  },
  {
   "cell_type": "code",
   "execution_count": 153,
   "id": "6287e7ed-21a0-4462-8b87-1e73e8daea3a",
   "metadata": {},
   "outputs": [
    {
     "name": "stdout",
     "output_type": "stream",
     "text": [
      "1\n"
     ]
    }
   ],
   "source": [
    "prices = [1,5,8,9,10, 17, 17, 20]\n",
    "print(rod_cut(prices,1))"
   ]
  },
  {
   "cell_type": "code",
   "execution_count": 160,
   "id": "6bb988a5-dc55-48c0-98e8-c9fb00b8e31e",
   "metadata": {
    "tags": []
   },
   "outputs": [
    {
     "name": "stdout",
     "output_type": "stream",
     "text": [
      "The optimal price for the rod length 1 is 1\n",
      "The optimal price for the rod length 2 is 5\n",
      "The optimal price for the rod length 3 is 8\n",
      "The optimal price for the rod length 4 is 10\n",
      "The optimal price for the rod length 5 is 13\n",
      "The optimal price for the rod length 6 is 17\n",
      "The optimal price for the rod length 7 is 18\n",
      "The optimal price for the rod length 8 is 22\n"
     ]
    }
   ],
   "source": [
    "prices = [1,5,8,9,10, 17, 17, 20]\n",
    "for i in range(1,len(prices)+1):\n",
    "    print(f'The optimal price for the rod length {i} is {rod_cut(prices,i)}')"
   ]
  },
  {
   "cell_type": "code",
   "execution_count": 98,
   "id": "285386cf-ad45-4a2c-bdcf-0707acd73e29",
   "metadata": {},
   "outputs": [],
   "source": [
    "def bottom_up(p,n):\n",
    "    r = [-float('inf')] * (n+1)\n",
    "    r[0] = 0\n",
    "    p_r = [0] + p\n",
    "    cuts = [0] *(n)\n",
    "    for j in range(1, n+1):\n",
    "        q = -float('inf')\n",
    "        for i in range(1, j+1):\n",
    "            if q < p_r[i] + r[j-i]:\n",
    "                q = p_r[i] + r[j-i]\n",
    "                cuts[j-1] = i\n",
    "        r[j] = q  \n",
    "    return r, cuts\n",
    "def rec_price_len(p,n):\n",
    "    rp, rl = bottom_up(p,n)\n",
    "    rec_len = []\n",
    "    t = n\n",
    "    while t > 0:\n",
    "        rec_len.append(rl[t-1])\n",
    "        t -= rl[t-1]\n",
    "        # print(rec_len,t)\n",
    "    return rec_len, rp[n]"
   ]
  },
  {
   "cell_type": "code",
   "execution_count": 112,
   "id": "ce11bd92-69f4-453f-94b4-7e2313cf3a7a",
   "metadata": {
    "tags": []
   },
   "outputs": [
    {
     "name": "stdout",
     "output_type": "stream",
     "text": [
      "For the rod length 1 the recommended lengh(s) are [1], the optimal price is 1\n",
      "For the rod length 2 the recommended lengh(s) are [2], the optimal price is 5\n",
      "For the rod length 3 the recommended lengh(s) are [3], the optimal price is 8\n",
      "For the rod length 4 the recommended lengh(s) are [2, 2], the optimal price is 10\n",
      "For the rod length 5 the recommended lengh(s) are [2, 3], the optimal price is 13\n",
      "For the rod length 6 the recommended lengh(s) are [6], the optimal price is 17\n",
      "For the rod length 7 the recommended lengh(s) are [1, 6], the optimal price is 18\n",
      "For the rod length 8 the recommended lengh(s) are [2, 6], the optimal price is 22\n"
     ]
    }
   ],
   "source": [
    "prices = [1, 5, 8, 9, 10, 17, 17, 20]\n",
    "for i in range(1,len(prices)+1):\n",
    "    ol, op = rec_price_len(prices,i)\n",
    "    print(f'For the rod length {i} the recommended lengh(s) are {ol}, the optimal price is {op}')"
   ]
  },
  {
   "cell_type": "code",
   "execution_count": null,
   "id": "4bf48c4d-5455-4458-982a-4cceb3deb866",
   "metadata": {},
   "outputs": [],
   "source": []
  }
 ],
 "metadata": {
  "kernelspec": {
   "display_name": "Python 3 (ipykernel)",
   "language": "python",
   "name": "python3"
  },
  "language_info": {
   "codemirror_mode": {
    "name": "ipython",
    "version": 3
   },
   "file_extension": ".py",
   "mimetype": "text/x-python",
   "name": "python",
   "nbconvert_exporter": "python",
   "pygments_lexer": "ipython3",
   "version": "3.10.8"
  }
 },
 "nbformat": 4,
 "nbformat_minor": 5
}
