{
 "cells": [
  {
   "cell_type": "code",
   "execution_count": 2,
   "id": "eec7bfe3-d537-43fb-9758-553384df7c80",
   "metadata": {},
   "outputs": [],
   "source": [
    "length = 8\n",
    "p_arr = {'length' : [1,2,3,4,5,6,7,8], 'price' : [1,5,8,9,10, 17, 17, 22]}"
   ]
  },
  {
   "cell_type": "code",
   "execution_count": 8,
   "id": "316a731e-6370-4e2c-aa1f-2c507a531292",
   "metadata": {},
   "outputs": [],
   "source": [
    "def all_combinations_r(start, target, c_sum):\n",
    "    if current_sum == target:\n",
    "        output.append(result)\n",
    "    for i in range(start, target):\n",
    "        t_sum = ct_sum + i\n",
    "        if t_sum <= target:\n",
    "            result.append(i)\n",
    "            all_combinations(start, target, t_sum)\n",
    "            \n",
    "def all_combinations()"
   ]
  },
  {
   "cell_type": "code",
   "execution_count": null,
   "id": "6287e7ed-21a0-4462-8b87-1e73e8daea3a",
   "metadata": {},
   "outputs": [],
   "source": []
  }
 ],
 "metadata": {
  "kernelspec": {
   "display_name": "Python 3 (ipykernel)",
   "language": "python",
   "name": "python3"
  },
  "language_info": {
   "codemirror_mode": {
    "name": "ipython",
    "version": 3
   },
   "file_extension": ".py",
   "mimetype": "text/x-python",
   "name": "python",
   "nbconvert_exporter": "python",
   "pygments_lexer": "ipython3",
   "version": "3.10.8"
  }
 },
 "nbformat": 4,
 "nbformat_minor": 5
}
